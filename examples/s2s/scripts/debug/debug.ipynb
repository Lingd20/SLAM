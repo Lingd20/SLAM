{
 "cells": [
  {
   "cell_type": "code",
   "execution_count": 1,
   "metadata": {},
   "outputs": [
    {
     "name": "stderr",
     "output_type": "stream",
     "text": [
      "/tmp/ipykernel_1342153/3611907854.py:3: FutureWarning: You are using `torch.load` with `weights_only=False` (the current default value), which uses the default pickle module implicitly. It is possible to construct malicious pickle data which will execute arbitrary code during unpickling (See https://github.com/pytorch/pytorch/blob/main/SECURITY.md#untrusted-models for more details). In a future release, the default value for `weights_only` will be flipped to `True`. This limits the functions that could be executed during unpickling. Arbitrary objects will no longer be allowed to be loaded via this mode unless they are explicitly allowlisted by the user via `torch.serialization.add_safe_globals`. We recommend you start setting `weights_only=True` for any use case where you don't have full control of the loaded file. Please open an issue on GitHub for any issues related to this experimental feature.\n",
      "  loaded_pred = torch.load('/home/v-wenxichen/SLAM-LLM/examples/s2s/scripts/debug/s2s_pred.pt', map_location='cuda:0')\n",
      "/tmp/ipykernel_1342153/3611907854.py:4: FutureWarning: You are using `torch.load` with `weights_only=False` (the current default value), which uses the default pickle module implicitly. It is possible to construct malicious pickle data which will execute arbitrary code during unpickling (See https://github.com/pytorch/pytorch/blob/main/SECURITY.md#untrusted-models for more details). In a future release, the default value for `weights_only` will be flipped to `True`. This limits the functions that could be executed during unpickling. Arbitrary objects will no longer be allowed to be loaded via this mode unless they are explicitly allowlisted by the user via `torch.serialization.add_safe_globals`. We recommend you start setting `weights_only=True` for any use case where you don't have full control of the loaded file. Please open an issue on GitHub for any issues related to this experimental feature.\n",
      "  loaded_label = torch.load('/home/v-wenxichen/SLAM-LLM/examples/s2s/scripts/debug/s2s_label.pt', map_location='cuda:0')\n"
     ]
    }
   ],
   "source": [
    "# 加载 tensor\n",
    "import torch\n",
    "loaded_pred = torch.load('/home/v-wenxichen/SLAM-LLM/examples/s2s/scripts/debug/s2s_pred.pt', map_location='cuda:0')\n",
    "loaded_label = torch.load('/home/v-wenxichen/SLAM-LLM/examples/s2s/scripts/debug/s2s_label.pt', map_location='cuda:0')\n"
   ]
  },
  {
   "cell_type": "code",
   "execution_count": 2,
   "metadata": {},
   "outputs": [
    {
     "name": "stdout",
     "output_type": "stream",
     "text": [
      "tensor([[4097,  241, 1057,  ..., 4097, 4097, 4097],\n",
      "        [4097, 4097, 2031,  ..., 4097, 4097, 4097],\n",
      "        [4097, 4097, 4097,  ..., 4097, 4097, 4097],\n",
      "        ...,\n",
      "        [4097, 4097, 4097,  ..., 4096, 4097, 4097],\n",
      "        [4097, 4097, 4097,  ..., 2420, 4096, 4097],\n",
      "        [4097, 4097, 4097,  ..., 3753, 1278, 4096]], device='cuda:0')\n",
      "torch.Size([7, 253])\n",
      "tensor([[4097, 1078, 1942,  ..., 4097, 4097, 4097],\n",
      "        [4097, 4097, 2031,  ..., 4097, 4097, 4097],\n",
      "        [4097, 4097, 4097,  ..., 4097, 4097, 4097],\n",
      "        ...,\n",
      "        [4097, 4097, 4097,  ..., 4096, 4097, 4097],\n",
      "        [4097, 4097, 4097,  ..., 2420, 4096, 4097],\n",
      "        [4097, 4097, 4097,  ..., 3753, 1278, 4096]], device='cuda:0')\n",
      "torch.Size([7, 253])\n"
     ]
    }
   ],
   "source": [
    "print(loaded_pred)\n",
    "print(loaded_label.shape)\n",
    "print(loaded_label)\n",
    "print(loaded_label.shape)"
   ]
  },
  {
   "cell_type": "code",
   "execution_count": 3,
   "metadata": {},
   "outputs": [
    {
     "name": "stderr",
     "output_type": "stream",
     "text": [
      "/home/v-wenxichen/anaconda3/envs/slam/lib/python3.10/site-packages/tqdm/auto.py:21: TqdmWarning: IProgress not found. Please update jupyter and ipywidgets. See https://ipywidgets.readthedocs.io/en/stable/user_install.html\n",
      "  from .autonotebook import tqdm as notebook_tqdm\n",
      "/home/v-wenxichen/SLAM-LLM/src/slam_llm/utils/checkpoint_handler.py:18: DeprecationWarning: `torch.distributed._shard.checkpoint` will be deprecated, use `torch.distributed.checkpoint` instead\n",
      "  from torch.distributed._shard.checkpoint import (\n",
      "/home/v-wenxichen/anaconda3/envs/slam/lib/python3.10/site-packages/snac/snac.py:106: FutureWarning: You are using `torch.load` with `weights_only=False` (the current default value), which uses the default pickle module implicitly. It is possible to construct malicious pickle data which will execute arbitrary code during unpickling (See https://github.com/pytorch/pytorch/blob/main/SECURITY.md#untrusted-models for more details). In a future release, the default value for `weights_only` will be flipped to `True`. This limits the functions that could be executed during unpickling. Arbitrary objects will no longer be allowed to be loaded via this mode unless they are explicitly allowlisted by the user via `torch.serialization.add_safe_globals`. We recommend you start setting `weights_only=True` for any use case where you don't have full control of the loaded file. Please open an issue on GitHub for any issues related to this experimental feature.\n",
      "  state_dict = torch.load(model_path, map_location=\"cpu\")\n"
     ]
    }
   ],
   "source": [
    "from slam_llm.utils.snac_utils import reconscruct_snac, reconstruct_tensors\n",
    "from snac import SNAC\n",
    "import soundfile as sf\n",
    "\n",
    "codec_decoder_path = \"hubertsiuzdak/snac_24khz\"\n",
    "codec_decoder = SNAC.from_pretrained(codec_decoder_path).eval()\n",
    "codec_decoder = codec_decoder.cuda()\n"
   ]
  },
  {
   "cell_type": "code",
   "execution_count": 10,
   "metadata": {},
   "outputs": [],
   "source": [
    "# audio_outputs = loaded_label\n",
    "audio_outputs = loaded_pred"
   ]
  },
  {
   "cell_type": "code",
   "execution_count": 11,
   "metadata": {},
   "outputs": [],
   "source": [
    "# wav_name = \"label_s2s\"\n",
    "wav_name = \"pred_s2s\"\n",
    "# def reconstruct_audio(audio_outputs):\n",
    "audio_tokens = [audio_outputs[layer] for layer in range(7)]\n",
    "audiolist = reconscruct_snac(audio_tokens)"
   ]
  },
  {
   "cell_type": "code",
   "execution_count": 12,
   "metadata": {},
   "outputs": [],
   "source": [
    "audiolist = audiolist[:-8]"
   ]
  },
  {
   "cell_type": "code",
   "execution_count": 13,
   "metadata": {},
   "outputs": [],
   "source": [
    "audio = reconstruct_tensors(audiolist)\n",
    "with torch.inference_mode():\n",
    "    audio_hat = codec_decoder.decode(audio)\n",
    "\n",
    "sf.write(f\"{wav_name}.wav\", audio_hat.squeeze().cpu().numpy(), 24000)"
   ]
  },
  {
   "cell_type": "code",
   "execution_count": null,
   "metadata": {},
   "outputs": [],
   "source": []
  }
 ],
 "metadata": {
  "kernelspec": {
   "display_name": "slam",
   "language": "python",
   "name": "python3"
  },
  "language_info": {
   "codemirror_mode": {
    "name": "ipython",
    "version": 3
   },
   "file_extension": ".py",
   "mimetype": "text/x-python",
   "name": "python",
   "nbconvert_exporter": "python",
   "pygments_lexer": "ipython3",
   "version": "3.10.14"
  }
 },
 "nbformat": 4,
 "nbformat_minor": 2
}
