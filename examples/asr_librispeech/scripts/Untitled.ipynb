{
 "cells": [
  {
   "cell_type": "code",
   "execution_count": 3,
   "id": "babb8114-60fb-4207-9426-172fa3669894",
   "metadata": {},
   "outputs": [
    {
     "name": "stdout",
     "output_type": "stream",
     "text": [
      "Submitted batch job 43277536\n"
     ]
    }
   ],
   "source": [
    "!sbatch 1_2_finetune_hubert_large_tiny_llama.sh"
   ]
  },
  {
   "cell_type": "code",
   "execution_count": 3,
   "id": "26fa9724-fec7-4e9b-926c-7022311bc0ed",
   "metadata": {},
   "outputs": [],
   "source": [
    "!scancel 43290505"
   ]
  },
  {
   "cell_type": "code",
   "execution_count": 4,
   "id": "5629fff7-ae02-4321-8e32-be12c41f7531",
   "metadata": {},
   "outputs": [
    {
     "name": "stdout",
     "output_type": "stream",
     "text": [
      "             JOBID PARTITION     NAME     USER ST       TIME  NODES NODELIST(REASON)\n",
      "          43354049       gpu sys/dash zhang.ji  R    3:54:29      1 d1007\n",
      "          43351986     short sys/dash zhang.ji  R   10:27:27      1 c0207\n"
     ]
    }
   ],
   "source": [
    "!squeue -u zhang.jinda1"
   ]
  },
  {
   "cell_type": "code",
   "execution_count": 7,
   "id": "7715d6bb-666c-4937-b588-36668d0116bc",
   "metadata": {},
   "outputs": [
    {
     "name": "stdout",
     "output_type": "stream",
     "text": [
      "Submitted batch job 43291476\n"
     ]
    }
   ],
   "source": [
    "!sbatch 0_3_decode_whisper_tiny_llama.sh"
   ]
  },
  {
   "cell_type": "code",
   "execution_count": 9,
   "id": "887cfd45-b5d9-47fa-914d-85a78ccfe1ec",
   "metadata": {},
   "outputs": [
    {
     "name": "stdout",
     "output_type": "stream",
     "text": [
      "Submitted batch job 43291495\n"
     ]
    }
   ],
   "source": [
    "!sbatch 1_1_finetune_hubert_xtralarge_tiny_llama.sh"
   ]
  },
  {
   "cell_type": "code",
   "execution_count": 11,
   "id": "ce1e73cf-5596-44c2-8c29-0d8ac3a5cef8",
   "metadata": {},
   "outputs": [
    {
     "name": "stdout",
     "output_type": "stream",
     "text": [
      "Submitted batch job 43291765\n"
     ]
    }
   ],
   "source": [
    "!sbatch 1_3_finetune_whisper_large_tiny_llama.sh"
   ]
  },
  {
   "cell_type": "code",
   "execution_count": 7,
   "id": "3f812444-ba46-469b-af52-45361b19c30c",
   "metadata": {},
   "outputs": [
    {
     "name": "stdout",
     "output_type": "stream",
     "text": [
      "Submitted batch job 43299981\n"
     ]
    }
   ],
   "source": [
    "!sbatch 2_1_baseline_finetune_whisper_large_linear_vicuna_7b.sh"
   ]
  },
  {
   "cell_type": "code",
   "execution_count": 1,
   "id": "433531d6-01a2-4685-acf1-e426ec0e1d50",
   "metadata": {},
   "outputs": [
    {
     "name": "stdout",
     "output_type": "stream",
     "text": [
      "Submitted batch job 43354538\n"
     ]
    }
   ],
   "source": [
    "!sbatch 0_0_baseline_decode_wavlm_large_linear_vicuna_7b.sh"
   ]
  },
  {
   "cell_type": "code",
   "execution_count": null,
   "id": "354ba7f2-7d05-44f0-929a-72ca85364c0b",
   "metadata": {},
   "outputs": [],
   "source": [
    "43297946"
   ]
  },
  {
   "cell_type": "code",
   "execution_count": 6,
   "id": "6e590130-c3fc-47d9-a78e-3ac8475809b0",
   "metadata": {},
   "outputs": [
    {
     "name": "stdout",
     "output_type": "stream",
     "text": [
      "srun: fatal: No command given to execute.\n"
     ]
    }
   ],
   "source": [
    "!srun -N 1 -c 12 -p gpu --gres=gpu:v100-sxm2:1 --time=08:00:00"
   ]
  },
  {
   "cell_type": "code",
   "execution_count": 11,
   "id": "06d3abdf-650b-4822-aeb0-b0f5b36a186c",
   "metadata": {},
   "outputs": [
    {
     "data": {
      "text/plain": [
       "'/work/van-speech-nlp/jindaznb/slamenv'"
      ]
     },
     "execution_count": 11,
     "metadata": {},
     "output_type": "execute_result"
    }
   ],
   "source": [
    "import sys\n",
    "sys.prefix"
   ]
  },
  {
   "cell_type": "code",
   "execution_count": 12,
   "id": "9b337b5b-9b86-4a68-acd0-5e594a1638ec",
   "metadata": {},
   "outputs": [
    {
     "name": "stdout",
     "output_type": "stream",
     "text": [
      "Found existing installation: transformers 4.35.2\n",
      "Uninstalling transformers-4.35.2:\n",
      "  Successfully uninstalled transformers-4.35.2\n"
     ]
    }
   ],
   "source": [
    "!pip uninstall -y transformers"
   ]
  },
  {
   "cell_type": "code",
   "execution_count": 13,
   "id": "fc2f91fb-07d9-4327-8acf-4094e221530e",
   "metadata": {},
   "outputs": [
    {
     "name": "stdout",
     "output_type": "stream",
     "text": [
      "Collecting git+https://github.com/huggingface/transformers\n",
      "  Cloning https://github.com/huggingface/transformers to /tmp/pip-req-build-w0yhuxxc\n",
      "  Running command git clone --filter=blob:none --quiet https://github.com/huggingface/transformers /tmp/pip-req-build-w0yhuxxc\n",
      "  Resolved https://github.com/huggingface/transformers to commit 6fbea6d237cbdfc3c229cdadfa3c968cfb2d5142\n",
      "  Installing build dependencies ... \u001b[?25ldone\n",
      "\u001b[?25h  Getting requirements to build wheel ... \u001b[?25ldone\n",
      "\u001b[?25h  Preparing metadata (pyproject.toml) ... \u001b[?25ldone\n",
      "\u001b[?25hRequirement already satisfied: filelock in /work/van-speech-nlp/jindaznb/slamenv/lib/python3.10/site-packages (from transformers==4.43.0.dev0) (3.15.4)\n",
      "Requirement already satisfied: huggingface-hub<1.0,>=0.23.2 in /work/van-speech-nlp/jindaznb/slamenv/lib/python3.10/site-packages (from transformers==4.43.0.dev0) (0.23.4)\n",
      "Requirement already satisfied: numpy<2.0,>=1.17 in /work/van-speech-nlp/jindaznb/slamenv/lib/python3.10/site-packages (from transformers==4.43.0.dev0) (1.26.4)\n",
      "Requirement already satisfied: packaging>=20.0 in /work/van-speech-nlp/jindaznb/slamenv/lib/python3.10/site-packages (from transformers==4.43.0.dev0) (23.2)\n",
      "Requirement already satisfied: pyyaml>=5.1 in /work/van-speech-nlp/jindaznb/slamenv/lib/python3.10/site-packages (from transformers==4.43.0.dev0) (6.0.2rc1)\n",
      "Requirement already satisfied: regex!=2019.12.17 in /work/van-speech-nlp/jindaznb/slamenv/lib/python3.10/site-packages (from transformers==4.43.0.dev0) (2024.5.15)\n",
      "Requirement already satisfied: requests in /work/van-speech-nlp/jindaznb/slamenv/lib/python3.10/site-packages (from transformers==4.43.0.dev0) (2.32.2)\n",
      "Collecting tokenizers<0.20,>=0.19 (from transformers==4.43.0.dev0)\n",
      "  Using cached tokenizers-0.19.1-cp310-cp310-manylinux_2_17_x86_64.manylinux2014_x86_64.whl.metadata (6.7 kB)\n",
      "Requirement already satisfied: safetensors>=0.4.1 in /work/van-speech-nlp/jindaznb/slamenv/lib/python3.10/site-packages (from transformers==4.43.0.dev0) (0.4.3)\n",
      "Requirement already satisfied: tqdm>=4.27 in /work/van-speech-nlp/jindaznb/slamenv/lib/python3.10/site-packages (from transformers==4.43.0.dev0) (4.66.4)\n",
      "Requirement already satisfied: fsspec>=2023.5.0 in /work/van-speech-nlp/jindaznb/slamenv/lib/python3.10/site-packages (from huggingface-hub<1.0,>=0.23.2->transformers==4.43.0.dev0) (2024.5.0)\n",
      "Requirement already satisfied: typing-extensions>=3.7.4.3 in /work/van-speech-nlp/jindaznb/slamenv/lib/python3.10/site-packages (from huggingface-hub<1.0,>=0.23.2->transformers==4.43.0.dev0) (4.12.2)\n",
      "Requirement already satisfied: charset-normalizer<4,>=2 in /work/van-speech-nlp/jindaznb/slamenv/lib/python3.10/site-packages (from requests->transformers==4.43.0.dev0) (2.0.4)\n",
      "Requirement already satisfied: idna<4,>=2.5 in /work/van-speech-nlp/jindaznb/slamenv/lib/python3.10/site-packages (from requests->transformers==4.43.0.dev0) (3.7)\n",
      "Requirement already satisfied: urllib3<3,>=1.21.1 in /work/van-speech-nlp/jindaznb/slamenv/lib/python3.10/site-packages (from requests->transformers==4.43.0.dev0) (2.2.2)\n",
      "Requirement already satisfied: certifi>=2017.4.17 in /work/van-speech-nlp/jindaznb/slamenv/lib/python3.10/site-packages (from requests->transformers==4.43.0.dev0) (2024.6.2)\n",
      "Using cached tokenizers-0.19.1-cp310-cp310-manylinux_2_17_x86_64.manylinux2014_x86_64.whl (3.6 MB)\n",
      "Building wheels for collected packages: transformers\n",
      "  Building wheel for transformers (pyproject.toml) ... \u001b[?25ldone\n",
      "\u001b[?25h  Created wheel for transformers: filename=transformers-4.43.0.dev0-py3-none-any.whl size=9353886 sha256=9109d5f8765e061393849039f4f36e93b746661114fbcfb3a1ff2e0e6c93d688\n",
      "  Stored in directory: /tmp/pip-ephem-wheel-cache-2m0wkok2/wheels/c0/14/d6/6c9a5582d2ac191ec0a483be151a4495fe1eb2a6706ca49f1b\n",
      "Successfully built transformers\n",
      "Installing collected packages: tokenizers, transformers\n",
      "  Attempting uninstall: tokenizers\n",
      "    Found existing installation: tokenizers 0.15.2\n",
      "    Uninstalling tokenizers-0.15.2:\n",
      "      Successfully uninstalled tokenizers-0.15.2\n",
      "\u001b[31mERROR: pip's dependency resolver does not currently take into account all the packages that are installed. This behaviour is the source of the following dependency conflicts.\n",
      "optimum 1.21.2 requires transformers[sentencepiece]<4.43.0,>=4.26.0, but you have transformers 4.43.0.dev0 which is incompatible.\u001b[0m\u001b[31m\n",
      "\u001b[0mSuccessfully installed tokenizers-0.19.1 transformers-4.43.0.dev0\n"
     ]
    }
   ],
   "source": [
    "!pip install git+https://github.com/huggingface/transformers"
   ]
  },
  {
   "cell_type": "code",
   "execution_count": null,
   "id": "29b0e80b-c302-4859-a717-0d1bdc2e2d16",
   "metadata": {},
   "outputs": [],
   "source": []
  }
 ],
 "metadata": {
  "kernelspec": {
   "display_name": "Python 3",
   "language": "python",
   "name": "python3"
  },
  "language_info": {
   "codemirror_mode": {
    "name": "ipython",
    "version": 3
   },
   "file_extension": ".py",
   "mimetype": "text/x-python",
   "name": "python",
   "nbconvert_exporter": "python",
   "pygments_lexer": "ipython3",
   "version": "3.10.14"
  }
 },
 "nbformat": 4,
 "nbformat_minor": 5
}
