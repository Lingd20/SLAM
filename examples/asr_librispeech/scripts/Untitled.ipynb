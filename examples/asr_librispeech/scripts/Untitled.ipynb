{
 "cells": [
  {
   "cell_type": "code",
   "execution_count": 4,
   "id": "babb8114-60fb-4207-9426-172fa3669894",
   "metadata": {},
   "outputs": [
    {
     "name": "stdout",
     "output_type": "stream",
     "text": [
      "Submitted batch job 43252742\n"
     ]
    }
   ],
   "source": [
    "!sbatch finetune_hubert_xtralarge_tiny_llama.sh"
   ]
  },
  {
   "cell_type": "code",
   "execution_count": 3,
   "id": "26fa9724-fec7-4e9b-926c-7022311bc0ed",
   "metadata": {},
   "outputs": [],
   "source": [
    "!scancel 43252670"
   ]
  },
  {
   "cell_type": "code",
   "execution_count": null,
   "id": "5629fff7-ae02-4321-8e32-be12c41f7531",
   "metadata": {},
   "outputs": [],
   "source": [
    "43252742 tiny llama"
   ]
  }
 ],
 "metadata": {
  "kernelspec": {
   "display_name": "Python 3",
   "language": "python",
   "name": "python3"
  },
  "language_info": {
   "codemirror_mode": {
    "name": "ipython",
    "version": 3
   },
   "file_extension": ".py",
   "mimetype": "text/x-python",
   "name": "python",
   "nbconvert_exporter": "python",
   "pygments_lexer": "ipython3",
   "version": "3.10.14"
  }
 },
 "nbformat": 4,
 "nbformat_minor": 5
}
